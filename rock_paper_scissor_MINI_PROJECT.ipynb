{
  "nbformat": 4,
  "nbformat_minor": 0,
  "metadata": {
    "colab": {
      "provenance": [],
      "authorship_tag": "ABX9TyPxdgtyA1JfDWyO6Bmq9r0s",
      "include_colab_link": true
    },
    "kernelspec": {
      "name": "python3",
      "display_name": "Python 3"
    },
    "language_info": {
      "name": "python"
    }
  },
  "cells": [
    {
      "cell_type": "markdown",
      "metadata": {
        "id": "view-in-github",
        "colab_type": "text"
      },
      "source": [
        "<a href=\"https://colab.research.google.com/github/irythmgarg/ROCK_PAPER_SCISSOR_MINI_PROJECT/blob/main/rock_paper_scissor_MINI_PROJECT.ipynb\" target=\"_parent\"><img src=\"https://colab.research.google.com/assets/colab-badge.svg\" alt=\"Open In Colab\"/></a>"
      ]
    },
    {
      "cell_type": "markdown",
      "source": [],
      "metadata": {
        "id": "Fq04f2kdgzQh"
      }
    },
    {
      "cell_type": "markdown",
      "source": [
        "# ***ROCK PAPER SCISSOR GAME***"
      ],
      "metadata": {
        "id": "OsOnpRs_g33p"
      }
    },
    {
      "cell_type": "code",
      "execution_count": 11,
      "metadata": {
        "colab": {
          "base_uri": "https://localhost:8080/"
        },
        "id": "ua7QxxmzZff_",
        "outputId": "df63ac3f-3fd3-4608-8d47-8b70c1a3e08b"
      },
      "outputs": [
        {
          "output_type": "stream",
          "name": "stdout",
          "text": [
            "enter the number of moves for which you want to play (5/10/15/20) 5\n",
            "enter your move rock(r)/ scissor(s)/ paper(p)/ quit(q) 5\n",
            "enter your move rock(r)/ scissor(s)/ paper(p)/ quit(q) r\n",
            "your move is   r  computer move is   r\n",
            "draw\n",
            "enter your move rock(r)/ scissor(s)/ paper(p)/ quit(q) r\n",
            "your move is   r  computer move is   r\n",
            "draw\n",
            "enter your move rock(r)/ scissor(s)/ paper(p)/ quit(q) r\n",
            "your move is   r  computer move is   p\n",
            "computers score increase by 1 \n",
            "enter your move rock(r)/ scissor(s)/ paper(p)/ quit(q) r\n",
            "your move is   r  computer move is   r\n",
            "draw\n",
            "enter your move rock(r)/ scissor(s)/ paper(p)/ quit(q) r\n",
            "your move is   r  computer move is   p\n",
            "computers score increase by 1 \n",
            "your score is  0  computer score is  2\n",
            "you lose\n"
          ]
        }
      ],
      "source": [
        "# you have to select number of moves for which you want to play with computer\n",
        "#you have to select one from rock ,paper ,scissor or quit\n",
        "# at the end who have more score (comp or player) wins;\n",
        "\n",
        "import random as r#import random\n",
        "nomoves=int(input(\"enter the number of moves for which you want to play (5/10/15/20) \")); # number of moves\n",
        "\n",
        "moves=['r','s','p']; #Available moves\n",
        "userscore=0; #intial score\n",
        "compscore=0;  #intial score\n",
        "for i in range(1,nomoves+1): #play till number of moves\n",
        "  now=input(\"enter your move rock(r)/ scissor(s)/ paper(p)/ quit(q) \"); #users move\n",
        "  if now=='q': # if user want to quit\n",
        "    print(\"game over\");\n",
        "    break;\n",
        "  while(now not in moves):\n",
        "     now=input(\"enter your move rock(r)/ scissor(s)/ paper(p)/ quit(q) \");\n",
        "  compmove=r.choice(moves);\n",
        "  print(\"your move is  \",now,\" \" ,end='');\n",
        "  print(\"computer move is  \",compmove);\n",
        "  if(now=='p' and compmove=='r') or (now=='r' and compmove=='s') or (now=='s' and compmove=='p'): #user wins\n",
        "    print(\"your score increase by 1 \");\n",
        "    userscore+=1; # score increases by one\n",
        "  elif now==compmove:\n",
        "    print(\"draw\");\n",
        "\n",
        "  else: #computer wins\n",
        "    print(\"computers score increase by 1 \");\n",
        "    compscore+=1;\n",
        "print(\"<<<<<GAME OVER >>>\");# game over\n",
        "print(\"your score is \",userscore,\" computer score is \",compscore);\n",
        "if userscore>compscore:\n",
        "  print(\"you win\");\n",
        "elif userscore<compscore:\n",
        "  print(\"you lose\");\n",
        "else:\n",
        "  print(\"draw\");\n",
        "\n",
        ""
      ]
    }
  ]
}